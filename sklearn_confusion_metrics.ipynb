{
 "cells": [
  {
   "cell_type": "code",
   "execution_count": 1,
   "id": "46b20428",
   "metadata": {},
   "outputs": [],
   "source": [
    "import pandas as p\n",
    "import numpy as n\n",
    "import matplotlib.pyplot as m\n",
    "from sklearn.linear_model import LinearRegression\n",
    "from sklearn.model_selection import train_test_split\n",
    "from sklearn import metrics"
   ]
  },
  {
   "cell_type": "code",
   "execution_count": 2,
   "id": "0f074f9e",
   "metadata": {},
   "outputs": [],
   "source": [
    "label=[1,0,1,0,1,0,0,1]\n",
    "pred=[0,0,1,1,1,0,1,1]"
   ]
  },
  {
   "cell_type": "code",
   "execution_count": 6,
   "id": "153c47ee",
   "metadata": {},
   "outputs": [
    {
     "data": {
      "text/plain": [
       "array([[2, 2],\n",
       "       [1, 3]], dtype=int64)"
      ]
     },
     "execution_count": 6,
     "metadata": {},
     "output_type": "execute_result"
    }
   ],
   "source": [
    "con=metrics.confusion_matrix(label,pred)\n",
    "con"
   ]
  },
  {
   "cell_type": "code",
   "execution_count": 7,
   "id": "3ae4a05f",
   "metadata": {},
   "outputs": [],
   "source": [
    "import seaborn as s"
   ]
  },
  {
   "cell_type": "code",
   "execution_count": 8,
   "id": "26ad9764",
   "metadata": {},
   "outputs": [
    {
     "data": {
      "image/png": "[encoded data removed]",
      "text/plain": [
       "<Figure size 432x288 with 2 Axes>"
      ]
     },
     "metadata": {
      "needs_background": "light"
     },
     "output_type": "display_data"
    }
   ],
   "source": [
    "s.heatmap(con,annot=True)\n",
    "m.title(\"confusion_matrix\")\n",
    "m.xlabel(\"label\",top)\n",
    "m.ylabel(\"pred\")\n",
    "m.show()"
   ]
  },
  {
   "cell_type": "code",
   "execution_count": 25,
   "id": "007cf4fd",
   "metadata": {},
   "outputs": [
    {
     "data": {
      "image/png": "[encoded data removed]",
      "text/plain": [
       "<Figure size 432x288 with 1 Axes>"
      ]
     },
     "metadata": {
      "needs_background": "light"
     },
     "output_type": "display_data"
    },
    {
     "data": {
      "image/png": "[encoded data removed]",
      "text/plain": [
       "<Figure size 432x288 with 1 Axes>"
      ]
     },
     "metadata": {
      "needs_background": "light"
     },
     "output_type": "display_data"
    }
   ],
   "source": [
    "m.subplot(2,2,1)\n",
    "m.plot(label)\n",
    "m.title(\"label\")\n",
    "m.show()\n",
    "m.subplot(2,2,2)\n",
    "m.plot(pred)\n",
    "m.show()"
   ]
  },
  {
   "cell_type": "code",
   "execution_count": 15,
   "id": "5770e632",
   "metadata": {},
   "outputs": [
    {
     "data": {
      "text/plain": [
       "0.625"
      ]
     },
     "execution_count": 15,
     "metadata": {},
     "output_type": "execute_result"
    }
   ],
   "source": [
    "metrics.accuracy_score(label,pred)"
   ]
  },
  {
   "cell_type": "code",
   "execution_count": 16,
   "id": "563ac442",
   "metadata": {},
   "outputs": [
    {
     "data": {
      "text/plain": [
       "0.6"
      ]
     },
     "execution_count": 16,
     "metadata": {},
     "output_type": "execute_result"
    }
   ],
   "source": [
    "metrics.precision_score(label,pred)"
   ]
  },
  {
   "cell_type": "code",
   "execution_count": 17,
   "id": "757f5bde",
   "metadata": {},
   "outputs": [
    {
     "data": {
      "text/plain": [
       "0.75"
      ]
     },
     "execution_count": 17,
     "metadata": {},
     "output_type": "execute_result"
    }
   ],
   "source": [
    "metrics.recall_score(label,pred)"
   ]
  },
  {
   "cell_type": "code",
   "execution_count": 18,
   "id": "dc07d987",
   "metadata": {},
   "outputs": [
    {
     "data": {
      "text/plain": [
       "0.6666666666666665"
      ]
     },
     "execution_count": 18,
     "metadata": {},
     "output_type": "execute_result"
    }
   ],
   "source": [
    "metrics.f1_score(label,pred)"
   ]
  },
  {
   "cell_type": "code",
   "execution_count": null,
   "id": "ec1e17a9",
   "metadata": {},
   "outputs": [],
   "source": []
  }
 ],
 "metadata": {
  "kernelspec": {
   "display_name": "Python 3 (ipykernel)",
   "language": "python",
   "name": "python3"
  },
  "language_info": {
   "codemirror_mode": {
    "name": "ipython",
    "version": 3
   },
   "file_extension": ".py",
   "mimetype": "text/x-python",
   "name": "python",
   "nbconvert_exporter": "python",
   "pygments_lexer": "ipython3",
   "version": "3.9.7"
  }
 },
 "nbformat": 4,
 "nbformat_minor": 5
}
